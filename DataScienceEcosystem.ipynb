{
  "metadata": {
    "kernelspec": {
      "name": "python",
      "display_name": "Python (Pyodide)",
      "language": "python"
    },
    "language_info": {
      "codemirror_mode": {
        "name": "python",
        "version": 3
      },
      "file_extension": ".py",
      "mimetype": "text/x-python",
      "name": "python",
      "nbconvert_exporter": "python",
      "pygments_lexer": "ipython3",
      "version": "3.8"
    }
  },
  "nbformat_minor": 5,
  "nbformat": 4,
  "cells": [
    {
      "id": "b61db826-7b80-4b18-95ee-acf824685855",
      "cell_type": "markdown",
      "source": "# Data Science Tools and Ecosystem",
      "metadata": {}
    },
    {
      "id": "f861229f-6767-418b-b279-ab3d6c2178cf",
      "cell_type": "markdown",
      "source": "In this Notebook, Data Science Tools and Ecosystem are Summarized",
      "metadata": {}
    },
    {
      "id": "0f61811c-3191-4f51-abce-cc793183a8a4",
      "cell_type": "markdown",
      "source": "Some of the popular languages that Data Scientists use are:\n1. Python\n2. R\n3. SQL",
      "metadata": {}
    },
    {
      "id": "e5949dc1-147a-4ca6-9082-4812203457aa",
      "cell_type": "markdown",
      "source": "Some of the commonly used libraries used by Data Scientists include:\n1. Pandas\n2. Numpy\n3. Matplotlib",
      "metadata": {}
    },
    {
      "id": "7cf89963-19a7-42ea-ade3-34a348491e12",
      "cell_type": "markdown",
      "source": "| Data Science Tools          |\n|-----------------------------|\n| Jupyter Notebook            |\n| RStudio                     |\n| Apache Zeppelin             |\n",
      "metadata": {}
    },
    {
      "id": "2b31540f-886c-45e4-b364-92e5e1e4312e",
      "cell_type": "markdown",
      "source": "### Below are a few examples of evaluating arithmetic expressions in Python.\n",
      "metadata": {}
    },
    {
      "id": "af242bd9-18d1-42dc-9db3-b67ea918c210",
      "cell_type": "code",
      "source": "# This a simple arithmetic expression to multiply then add integers\n(3 * 4) + 5",
      "metadata": {
        "trusted": true
      },
      "outputs": [
        {
          "execution_count": 3,
          "output_type": "execute_result",
          "data": {
            "text/plain": "17"
          },
          "metadata": {}
        }
      ],
      "execution_count": 3
    },
    {
      "id": "709d0f9b-94b5-4d77-829c-ee690a67dc26",
      "cell_type": "code",
      "source": "# This will convert 200 minutes to hours by dividing by 60\n200 / 60",
      "metadata": {
        "trusted": true
      },
      "outputs": [
        {
          "execution_count": 4,
          "output_type": "execute_result",
          "data": {
            "text/plain": "3.3333333333333335"
          },
          "metadata": {}
        }
      ],
      "execution_count": 4
    },
    {
      "id": "d98ebe35-83cb-430c-b6ca-a636f9ca1abb",
      "cell_type": "markdown",
      "source": "**Objectives:**\n\n- List popular languages for Data Science\n- List commonly used libraries in Data Science\n- Create tables using markdown\n- Perform arithmetic operations in Python\n- Convert minutes to hours\n",
      "metadata": {}
    },
    {
      "id": "ec2f9736-3a78-4469-89a1-83e2e3b59854",
      "cell_type": "markdown",
      "source": "## Author\nMuskan Thapa",
      "metadata": {}
    },
    {
      "id": "f8996d5e-cd75-44c7-a298-7336cd2bea1e",
      "cell_type": "code",
      "source": "",
      "metadata": {
        "trusted": true
      },
      "outputs": [],
      "execution_count": null
    }
  ]
}